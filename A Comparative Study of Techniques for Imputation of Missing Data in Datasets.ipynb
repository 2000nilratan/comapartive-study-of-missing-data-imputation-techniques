{
 "cells": [
  {
   "cell_type": "markdown",
   "metadata": {},
   "source": [
    "# Import necessary libraries"
   ]
  },
  {
   "cell_type": "code",
   "execution_count": 1,
   "metadata": {
    "scrolled": true
   },
   "outputs": [],
   "source": [
    "import math\n",
    "import numpy as np\n",
    "import pandas as pd\n",
    "import matplotlib.pyplot as plt \n",
    "from sklearn.metrics import mean_squared_error,mean_absolute_error,mean_absolute_percentage_error"
   ]
  },
  {
   "cell_type": "markdown",
   "metadata": {},
   "source": [
    "# Import dataset"
   ]
  },
  {
   "cell_type": "code",
   "execution_count": 2,
   "metadata": {},
   "outputs": [],
   "source": [
    "df = pd.read_csv('Salary_Data.csv')\n",
    "original = pd.read_csv('Salary_Data_original.csv')\n",
    "o = original.to_numpy()"
   ]
  },
  {
   "cell_type": "markdown",
   "metadata": {},
   "source": [
    "# Simple Imputation"
   ]
  },
  {
   "cell_type": "code",
   "execution_count": 3,
   "metadata": {},
   "outputs": [],
   "source": [
    "from sklearn.impute import SimpleImputer\n",
    "imp_mean = SimpleImputer(missing_values=np.nan,strategy='mean')\n",
    "imp_m=imp_mean.fit_transform(df)"
   ]
  },
  {
   "cell_type": "code",
   "execution_count": 4,
   "metadata": {
    "scrolled": true
   },
   "outputs": [
    {
     "name": "stdout",
     "output_type": "stream",
     "text": [
      "Root mean square error : - 27097.251093884046\n",
      "Mean absolute error : - 19160.65\n",
      "Mean absolute percentage error : - 0.24671116587672845\n"
     ]
    }
   ],
   "source": [
    "m = pd.DataFrame(imp_m)\n",
    "imp1 = m.to_numpy()\n",
    "\n",
    "mse = mean_squared_error(imp1[0],o[0])\n",
    "a_rmse = math.sqrt(mse)\n",
    "print(\"Root mean square error : -\",a_rmse)\n",
    "\n",
    "a_mae = mean_absolute_error(imp1[0],o[0])\n",
    "print(\"Mean absolute error : -\",a_mae)\n",
    "\n",
    "a_mape = mean_absolute_percentage_error(imp1[0],o[0])\n",
    "print(\"Mean absolute percentage error : -\",a_mape)"
   ]
  },
  {
   "cell_type": "markdown",
   "metadata": {},
   "source": [
    "# Iterative Imputation"
   ]
  },
  {
   "cell_type": "code",
   "execution_count": 5,
   "metadata": {},
   "outputs": [],
   "source": [
    "from sklearn.experimental import enable_iterative_imputer\n",
    "from sklearn.impute import IterativeImputer\n",
    "from sklearn.linear_model import LinearRegression\n"
   ]
  },
  {
   "cell_type": "code",
   "execution_count": 6,
   "metadata": {},
   "outputs": [],
   "source": [
    "lr = LinearRegression()\n",
    "imp = IterativeImputer(estimator=lr,missing_values=np.nan, max_iter=5,  imputation_order='roman',random_state=0)\n",
    "imptd=imp.fit_transform(df)"
   ]
  },
  {
   "cell_type": "code",
   "execution_count": 7,
   "metadata": {},
   "outputs": [
    {
     "name": "stdout",
     "output_type": "stream",
     "text": [
      "Root mean square error : - 2273.4604320714056\n",
      "Mean absolute error : - 1607.5792882769892\n",
      "Mean absolute percentage error : - 0.04449696480437142\n"
     ]
    }
   ],
   "source": [
    "itr = pd.DataFrame(imptd)\n",
    "imp2 = itr.to_numpy()\n",
    "\n",
    "mse = mean_squared_error(imp2[0],o[0])\n",
    "b_rmse = math.sqrt(mse)\n",
    "print(\"Root mean square error : -\",b_rmse)\n",
    "\n",
    "b_mae = mean_absolute_error(imp2[0],o[0])\n",
    "print(\"Mean absolute error : -\",b_mae)\n",
    "\n",
    "b_mape = mean_absolute_percentage_error(imp2[0],o[0])\n",
    "print(\"Mean absolute percentage error : -\",b_mape)"
   ]
  },
  {
   "cell_type": "markdown",
   "metadata": {},
   "source": [
    "# MICE(Multiple Imputation by Chained Equations)"
   ]
  },
  {
   "cell_type": "code",
   "execution_count": 8,
   "metadata": {},
   "outputs": [],
   "source": [
    " import miceforest as mf\n",
    "kds = mf.ImputationKernel(\n",
    "  df,\n",
    "  datasets=5,\n",
    "  save_all_iterations=True,\n",
    "  random_state=1\n",
    ")\n",
    "kds.mice()"
   ]
  },
  {
   "cell_type": "code",
   "execution_count": 9,
   "metadata": {},
   "outputs": [
    {
     "name": "stdout",
     "output_type": "stream",
     "text": [
      "Root mean square error : - 4231.609821332776\n",
      "Mean absolute error : - 2992.2000000000007\n",
      "Mean absolute percentage error : - 0.0660130517082383\n"
     ]
    }
   ],
   "source": [
    "kds.complete_data(0)\n",
    "mice = pd.concat([kds.complete_data(i) for i in range(5)]).groupby(level=0).mean()\n",
    "imp3 = mice.to_numpy()\n",
    "\n",
    "mse = mean_squared_error(imp3[0],o[0])\n",
    "c_rmse = math.sqrt(mse)\n",
    "print(\"Root mean square error : -\",c_rmse)\n",
    "\n",
    "c_mae = mean_absolute_error(imp3[0],o[0])\n",
    "print(\"Mean absolute error : -\",c_mae)\n",
    "\n",
    "c_mape = mean_absolute_percentage_error(imp3[0],o[0])\n",
    "print(\"Mean absolute percentage error : -\",c_mape)"
   ]
  },
  {
   "cell_type": "markdown",
   "metadata": {},
   "source": [
    "# KNN(k-nearest neighbors)"
   ]
  },
  {
   "cell_type": "code",
   "execution_count": 10,
   "metadata": {},
   "outputs": [],
   "source": [
    "from sklearn.impute import KNNImputer\n",
    "knn = KNNImputer(n_neighbors=2)"
   ]
  },
  {
   "cell_type": "code",
   "execution_count": 11,
   "metadata": {},
   "outputs": [
    {
     "name": "stdout",
     "output_type": "stream",
     "text": [
      "Root mean square error : - 1856.1553006146873\n",
      "Mean absolute error : - 1312.5\n",
      "Mean absolute percentage error : - 0.03127382767823103\n"
     ]
    }
   ],
   "source": [
    "f = pd.DataFrame(knn.fit_transform(df))\n",
    "kn = pd.DataFrame(f)\n",
    "imp4 = kn.to_numpy()\n",
    "\n",
    "mse = mean_squared_error(imp4[0],o[0])\n",
    "d_rmse = math.sqrt(mse)\n",
    "print(\"Root mean square error : -\",d_rmse)\n",
    "\n",
    "d_mae = mean_absolute_error(imp4[0],o[0])\n",
    "print(\"Mean absolute error : -\",d_mae)\n",
    "\n",
    "d_mape = mean_absolute_percentage_error(imp4[0],o[0])\n",
    "print(\"Mean absolute percentage error : -\",d_mape)"
   ]
  },
  {
   "cell_type": "markdown",
   "metadata": {},
   "source": [
    "# MissForest"
   ]
  },
  {
   "cell_type": "code",
   "execution_count": 12,
   "metadata": {},
   "outputs": [],
   "source": [
    "import sklearn.neighbors._base \n",
    "import sys \n",
    "sys.modules['sklearn.neighbors.base'] = sklearn.neighbors._base\n",
    "from warnings import simplefilter\n",
    "simplefilter(action='ignore', category=FutureWarning)\n",
    "from missingpy import MissForest"
   ]
  },
  {
   "cell_type": "code",
   "execution_count": 13,
   "metadata": {},
   "outputs": [
    {
     "name": "stdout",
     "output_type": "stream",
     "text": [
      "Iteration: 0\n",
      "Iteration: 1\n",
      "Iteration: 2\n"
     ]
    }
   ],
   "source": [
    "imp = MissForest(random_state=1,max_iter=3)\n",
    "impd = imp.fit_transform(df)\n",
    "g = pd.DataFrame(impd)\n",
    "missf = pd.DataFrame(g)"
   ]
  },
  {
   "cell_type": "code",
   "execution_count": 14,
   "metadata": {},
   "outputs": [
    {
     "name": "stdout",
     "output_type": "stream",
     "text": [
      "Root mean square error : - 2815.7628422951366\n",
      "Mean absolute error : - 1991.0449999999983\n",
      "Mean absolute percentage error : - 0.045955934540470623\n"
     ]
    }
   ],
   "source": [
    "imp5 = missf.to_numpy()\n",
    "\n",
    "mse = mean_squared_error(imp5[0],o[0])\n",
    "e_rmse = math.sqrt(mse)\n",
    "print(\"Root mean square error : -\",e_rmse)\n",
    "\n",
    "e_mae = mean_absolute_error(imp5[0],o[0])\n",
    "print(\"Mean absolute error : -\",e_mae)\n",
    "\n",
    "e_mape = mean_absolute_percentage_error(imp5[0],o[0])\n",
    "print(\"Mean absolute percentage error : -\",e_mape)"
   ]
  },
  {
   "cell_type": "markdown",
   "metadata": {},
   "source": [
    "# Graphical Representation : - Root Mean Square Error"
   ]
  },
  {
   "cell_type": "code",
   "execution_count": 15,
   "metadata": {},
   "outputs": [
    {
     "data": {
      "image/png": "[encoded data removed]",
      "text/plain": [
       "<Figure size 1080x576 with 1 Axes>"
      ]
     },
     "metadata": {
      "needs_background": "light"
     },
     "output_type": "display_data"
    }
   ],
   "source": [
    "plotdata = pd.DataFrame({\n",
    "\n",
    "    \"SimpleImputer\":[a_rmse],\n",
    "\n",
    "    \"IterativeImputer\":[b_rmse],\n",
    "\n",
    "    \"MICEImputer\":[c_rmse],\n",
    "    \n",
    "    \"KNNImputer\":[d_rmse],\n",
    "    \n",
    "    \"MissForestImputer\":[e_rmse]},)\n",
    "\n",
    "plotdata.plot(kind=\"bar\",figsize=(15, 8))\n",
    "\n",
    "plt.title(\"Root Mean Square Error\")\n",
    "\n",
    "plt.xlabel(\"Imputation Techniques\")\n",
    "\n",
    "plt.savefig('rmse.png')"
   ]
  },
  {
   "cell_type": "markdown",
   "metadata": {},
   "source": [
    "# Graphical representation : - Mean Absolute Error"
   ]
  },
  {
   "cell_type": "code",
   "execution_count": 16,
   "metadata": {},
   "outputs": [
    {
     "data": {
      "image/png": "[encoded data removed]",
      "text/plain": [
       "<Figure size 1080x576 with 1 Axes>"
      ]
     },
     "metadata": {
      "needs_background": "light"
     },
     "output_type": "display_data"
    }
   ],
   "source": [
    "plotdata = pd.DataFrame({\n",
    "    \"SimpleImputer\":[a_mae],\n",
    "\n",
    "    \"IterativeImputer\":[b_mae],\n",
    "\n",
    "    \"MICEImputer\":[c_mae],\n",
    "    \n",
    "    \"KNNImputer\":[d_mae],\n",
    "    \n",
    "    \"MissForestImputer\":[e_mae]},)\n",
    "\n",
    "plotdata.plot(kind=\"bar\",figsize=(15, 8))\n",
    "\n",
    "plt.title(\"Mean Absolute Error\")\n",
    "\n",
    "plt.xlabel(\"Imputation Techniques\")\n",
    "\n",
    "plt.savefig('mae.png')"
   ]
  },
  {
   "cell_type": "markdown",
   "metadata": {},
   "source": [
    "# Graphical representation : - Mean Absolute Percentage Error"
   ]
  },
  {
   "cell_type": "code",
   "execution_count": 17,
   "metadata": {},
   "outputs": [
    {
     "data": {
      "image/png": "[encoded data removed]",
      "text/plain": [
       "<Figure size 1080x576 with 1 Axes>"
      ]
     },
     "metadata": {
      "needs_background": "light"
     },
     "output_type": "display_data"
    }
   ],
   "source": [
    "plotdata = pd.DataFrame({\n",
    "    \"SimpleImputer\":[a_mape],\n",
    "\n",
    "    \"IterativeImputer\":[b_mape],\n",
    "\n",
    "    \"MICEImputer\":[c_mape],\n",
    "    \n",
    "    \"KNNImputer\":[d_mape],\n",
    "    \n",
    "    \"MissForestImputer\":[e_mape]},)\n",
    "\n",
    "plotdata.plot(kind=\"bar\",figsize=(15, 8))\n",
    "\n",
    "plt.title(\"Mean Absolute Percentage Error\")\n",
    "\n",
    "plt.xlabel(\"Imputation Techniques\")\n",
    "\n",
    "plt.ylabel(\"Percentage 1.0 = 100%\")\n",
    "\n",
    "plt.savefig('mape.png')"
   ]
  },
  {
   "cell_type": "code",
   "execution_count": null,
   "metadata": {},
   "outputs": [],
   "source": []
  }
 ],
 "metadata": {
  "kernelspec": {
   "display_name": "Python 3 (ipykernel)",
   "language": "python",
   "name": "python3"
  },
  "language_info": {
   "codemirror_mode": {
    "name": "ipython",
    "version": 3
   },
   "file_extension": ".py",
   "mimetype": "text/x-python",
   "name": "python",
   "nbconvert_exporter": "python",
   "pygments_lexer": "ipython3",
   "version": "3.9.7"
  }
 },
 "nbformat": 4,
 "nbformat_minor": 4
}
